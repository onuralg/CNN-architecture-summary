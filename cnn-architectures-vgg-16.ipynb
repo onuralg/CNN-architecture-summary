{
 "cells": [
  {
   "cell_type": "markdown",
   "metadata": {},
   "source": [
    "# VGG-16 \n",
    "\n",
    "\n",
    "\n",
    "<b>Related paper:</b> <a href=\"https://arxiv.org/pdf/1409.1556.pdf\">Very Deep Convolutional Networks for Large-Scale Image Recognition </a>\n",
    "<hr>\n",
    "<br>\n",
    "\n",
    "<img src=\"vgg-16.png\" width=\"75%\" height=\"75%\">\n",
    "\n",
    "\n",
    "<hr>\n",
    "<b>Abstract:</b> <br><br>\n",
    "In this work we investigate the effect of the convolutional network depth on its accuracy in the large-scale image recognition setting. Our main contribution is a thorough evaluation of networks of increasing depth using an architecture with very small (3×3) convolution filters, which shows that a significant improvement on the prior-art configurations can be achieved by pushing the depth to 16–19 weight layers. These findings were the basis of our ImageNet Challenge 2014 submission, where our team secured the first and the second places in the localisation and classification tracks respectively. We also show that our representations generalise well to other datasets, where they achieve state-of-the-art results. We have made our two best-performing ConvNet models publicly available to facilitate further research on the use of deep visual representations in computer vision.\n",
    "\n",
    "\n",
    "<hr>"
   ]
  },
  {
   "cell_type": "code",
   "execution_count": 167,
   "metadata": {},
   "outputs": [],
   "source": [
    "from keras.applications.vgg16 import VGG16\n",
    "from keras.applications.vgg16 import preprocess_input\n",
    "from keras.preprocessing import image\n",
    "import numpy as np"
   ]
  },
  {
   "cell_type": "code",
   "execution_count": 168,
   "metadata": {},
   "outputs": [
    {
     "name": "stdout",
     "output_type": "stream",
     "text": [
      "_________________________________________________________________\n",
      "Layer (type)                 Output Shape              Param #   \n",
      "=================================================================\n",
      "input_9 (InputLayer)         (None, 224, 224, 3)       0         \n",
      "_________________________________________________________________\n",
      "block1_conv1 (Conv2D)        (None, 224, 224, 64)      1792      \n",
      "_________________________________________________________________\n",
      "block1_conv2 (Conv2D)        (None, 224, 224, 64)      36928     \n",
      "_________________________________________________________________\n",
      "block1_pool (MaxPooling2D)   (None, 112, 112, 64)      0         \n",
      "_________________________________________________________________\n",
      "block2_conv1 (Conv2D)        (None, 112, 112, 128)     73856     \n",
      "_________________________________________________________________\n",
      "block2_conv2 (Conv2D)        (None, 112, 112, 128)     147584    \n",
      "_________________________________________________________________\n",
      "block2_pool (MaxPooling2D)   (None, 56, 56, 128)       0         \n",
      "_________________________________________________________________\n",
      "block3_conv1 (Conv2D)        (None, 56, 56, 256)       295168    \n",
      "_________________________________________________________________\n",
      "block3_conv2 (Conv2D)        (None, 56, 56, 256)       590080    \n",
      "_________________________________________________________________\n",
      "block3_conv3 (Conv2D)        (None, 56, 56, 256)       590080    \n",
      "_________________________________________________________________\n",
      "block3_pool (MaxPooling2D)   (None, 28, 28, 256)       0         \n",
      "_________________________________________________________________\n",
      "block4_conv1 (Conv2D)        (None, 28, 28, 512)       1180160   \n",
      "_________________________________________________________________\n",
      "block4_conv2 (Conv2D)        (None, 28, 28, 512)       2359808   \n",
      "_________________________________________________________________\n",
      "block4_conv3 (Conv2D)        (None, 28, 28, 512)       2359808   \n",
      "_________________________________________________________________\n",
      "block4_pool (MaxPooling2D)   (None, 14, 14, 512)       0         \n",
      "_________________________________________________________________\n",
      "block5_conv1 (Conv2D)        (None, 14, 14, 512)       2359808   \n",
      "_________________________________________________________________\n",
      "block5_conv2 (Conv2D)        (None, 14, 14, 512)       2359808   \n",
      "_________________________________________________________________\n",
      "block5_conv3 (Conv2D)        (None, 14, 14, 512)       2359808   \n",
      "_________________________________________________________________\n",
      "block5_pool (MaxPooling2D)   (None, 7, 7, 512)         0         \n",
      "_________________________________________________________________\n",
      "flatten (Flatten)            (None, 25088)             0         \n",
      "_________________________________________________________________\n",
      "fc1 (Dense)                  (None, 4096)              102764544 \n",
      "_________________________________________________________________\n",
      "fc2 (Dense)                  (None, 4096)              16781312  \n",
      "_________________________________________________________________\n",
      "predictions (Dense)          (None, 1000)              4097000   \n",
      "=================================================================\n",
      "Total params: 138,357,544\n",
      "Trainable params: 138,357,544\n",
      "Non-trainable params: 0\n",
      "_________________________________________________________________\n",
      "None\n"
     ]
    }
   ],
   "source": [
    "\n",
    "model = VGG16(weights='imagenet', include_top=True)\n",
    "\n",
    "print(model.summary())\n",
    "\n"
   ]
  },
  {
   "cell_type": "code",
   "execution_count": 170,
   "metadata": {
    "scrolled": false
   },
   "outputs": [
    {
     "name": "stdout",
     "output_type": "stream",
     "text": [
      "---------------------------------------------------------------------------------------------------------\n",
      "     Layer Type       Layer Dimensions       Activation           Output Shape                Param #    \n",
      "---------------------------------------------------------------------------------------------------------\n",
      "     InputLayer             None                None           (None, 224, 224, 3)               0       \n",
      "         Conv2D        (3, 3, 3, 64)            relu          (None, 224, 224, 64)             1792      \n",
      "         Conv2D        (3, 3, 64, 64)           relu          (None, 224, 224, 64)             36928     \n",
      "   MaxPooling2D             None                None          (None, 112, 112, 64)               0       \n",
      "         Conv2D       (3, 3, 64, 128)           relu          (None, 112, 112, 128)            73856     \n",
      "         Conv2D       (3, 3, 128, 128)          relu          (None, 112, 112, 128)           147584     \n",
      "   MaxPooling2D             None                None           (None, 56, 56, 128)               0       \n",
      "         Conv2D       (3, 3, 128, 256)          relu           (None, 56, 56, 256)            295168     \n",
      "         Conv2D       (3, 3, 256, 256)          relu           (None, 56, 56, 256)            590080     \n",
      "         Conv2D       (3, 3, 256, 256)          relu           (None, 56, 56, 256)            590080     \n",
      "   MaxPooling2D             None                None           (None, 28, 28, 256)               0       \n",
      "         Conv2D       (3, 3, 256, 512)          relu           (None, 28, 28, 512)            1180160    \n",
      "         Conv2D       (3, 3, 512, 512)          relu           (None, 28, 28, 512)            2359808    \n",
      "         Conv2D       (3, 3, 512, 512)          relu           (None, 28, 28, 512)            2359808    \n",
      "   MaxPooling2D             None                None           (None, 14, 14, 512)               0       \n",
      "         Conv2D       (3, 3, 512, 512)          relu           (None, 14, 14, 512)            2359808    \n",
      "         Conv2D       (3, 3, 512, 512)          relu           (None, 14, 14, 512)            2359808    \n",
      "         Conv2D       (3, 3, 512, 512)          relu           (None, 14, 14, 512)            2359808    \n",
      "   MaxPooling2D             None                None            (None, 7, 7, 512)                0       \n",
      "        Flatten             None                None              (None, 25088)                  0       \n",
      "          Dense        (25088, 4096)            relu              (None, 4096)               102764544   \n",
      "          Dense         (4096, 4096)            relu              (None, 4096)               16781312    \n",
      "          Dense         (4096, 1000)          softmax             (None, 1000)                4097000    \n",
      "---------------------------------------------------------------------------------------------------------\n"
     ]
    }
   ],
   "source": [
    "print('-'*105)\n",
    "print('{:>15s}{:^30s}{:^10s}{:^35s}{:^15s}'.format(\"Layer Type\", \"Layer Dimensions\", \"Activation\", \"Output Shape\", \"Param #\"))\n",
    "print('-'*105)\n",
    "\n",
    "for layer in model.layers:\n",
    "\n",
    "    weights = layer.get_weights()\n",
    "    if(len(weights) >= 0):\n",
    "        if(len(weights) > 0):\n",
    "            w1 = weights[0]\n",
    "            w2 = weights[1]\n",
    "            \n",
    "        layerConfig = layer.get_config()\n",
    "        layer.output_shape\n",
    "        \n",
    "        if(\"activation\" in layerConfig):\n",
    "            layerType = layer.__class__.__name__ \n",
    "            layerSize = str(w1.shape)\n",
    "            activation = layerConfig[\"activation\"]\n",
    "            outputShape = str(layer.output_shape)\n",
    "            numParam = str(layer.count_params())\n",
    "        else:\n",
    "            layerType = layer.__class__.__name__ \n",
    "            layerSize = \"None\"\n",
    "            activation = \"None\"\n",
    "            outputShape = str(layer.output_shape)\n",
    "            numParam = str(layer.count_params())\n",
    "\n",
    "        print('{:>15s}{:^30s}{:^10s}{:^35s}{:^15s}'.format(layerType, layerSize, activation, outputShape, numParam))\n",
    "print('-'*105)"
   ]
  },
  {
   "cell_type": "code",
   "execution_count": null,
   "metadata": {},
   "outputs": [],
   "source": []
  }
 ],
 "metadata": {
  "kernelspec": {
   "display_name": "my-venv",
   "language": "python",
   "name": "my-venv"
  },
  "language_info": {
   "codemirror_mode": {
    "name": "ipython",
    "version": 3
   },
   "file_extension": ".py",
   "mimetype": "text/x-python",
   "name": "python",
   "nbconvert_exporter": "python",
   "pygments_lexer": "ipython3",
   "version": "3.6.4"
  }
 },
 "nbformat": 4,
 "nbformat_minor": 2
}
